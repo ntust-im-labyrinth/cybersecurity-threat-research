{
 "cells": [
  {
   "cell_type": "markdown",
   "id": "5faffe4a",
   "metadata": {},
   "source": [
    "Empire VBS Execution\n",
    "\n",
    "https://raw.githubusercontent.com/OTRF/Security-Datasets/master/datasets/atomic/windows/execution/host/empire_launcher_vbs.zip\n",
    "\n",
    "this dataset represents adversaries executing a VBS script as a launcher for initial access. The adversary view showed that a \"launcher.vbs\" was generated and excuted. Can I find it?"
   ]
  },
  {
   "cell_type": "code",
   "execution_count": 1,
   "id": "03905fdc",
   "metadata": {},
   "outputs": [
    {
     "name": "stderr",
     "output_type": "stream",
     "text": []
    },
    {
     "data": {
      "text/html": [
       "<div><h4>Block Executed in 3 seconds</h4><table border=\"1\" class=\"dataframe\">\n",
       "  <thead>\n",
       "    <tr style=\"text-align: right;\">\n",
       "      <th>VARIABLE</th>\n",
       "      <th>TYPE</th>\n",
       "      <th>#(ENTITIES)</th>\n",
       "      <th>#(RECORDS)</th>\n",
       "      <th>artifact*</th>\n",
       "      <th>directory*</th>\n",
       "      <th>file*</th>\n",
       "      <th>ipv4-addr*</th>\n",
       "      <th>network-traffic*</th>\n",
       "      <th>process*</th>\n",
       "      <th>user-account*</th>\n",
       "      <th>windows-registry-key*</th>\n",
       "      <th>x-oca-asset*</th>\n",
       "      <th>x-oca-event*</th>\n",
       "    </tr>\n",
       "  </thead>\n",
       "  <tbody>\n",
       "    <tr>\n",
       "      <td>procs</td>\n",
       "      <td>process</td>\n",
       "      <td>7</td>\n",
       "      <td>746</td>\n",
       "      <td>741</td>\n",
       "      <td>935</td>\n",
       "      <td>1066</td>\n",
       "      <td>2</td>\n",
       "      <td>1</td>\n",
       "      <td>749</td>\n",
       "      <td>15</td>\n",
       "      <td>395</td>\n",
       "      <td>741</td>\n",
       "      <td>741</td>\n",
       "    </tr>\n",
       "  </tbody>\n",
       "</table><p>*Number of related records cached.</p></div>"
      ]
     },
     "metadata": {},
     "output_type": "display_data"
    }
   ],
   "source": [
    "procs = GET process from https://raw.githubusercontent.com/OTRF/Security-Datasets/master/datasets/atomic/windows/execution/host/empire_launcher_vbs.zip where command_line LIKE '%'"
   ]
  },
  {
   "cell_type": "code",
   "execution_count": 3,
   "id": "da7633c1",
   "metadata": {},
   "outputs": [
    {
     "name": "stderr",
     "output_type": "stream",
     "text": []
    },
    {
     "data": {
      "text/html": [
       "<div><h4>Block Executed in 1 seconds</h4><table border=\"1\" class=\"dataframe\">\n",
       "  <thead>\n",
       "    <tr style=\"text-align: right;\">\n",
       "      <th>VARIABLE</th>\n",
       "      <th>TYPE</th>\n",
       "      <th>#(ENTITIES)</th>\n",
       "      <th>#(RECORDS)</th>\n",
       "      <th>artifact*</th>\n",
       "      <th>directory*</th>\n",
       "      <th>file*</th>\n",
       "      <th>ipv4-addr*</th>\n",
       "      <th>network-traffic*</th>\n",
       "      <th>process*</th>\n",
       "      <th>user-account*</th>\n",
       "      <th>windows-registry-key*</th>\n",
       "      <th>x-oca-asset*</th>\n",
       "      <th>x-oca-event*</th>\n",
       "    </tr>\n",
       "  </thead>\n",
       "  <tbody>\n",
       "    <tr>\n",
       "      <td>sprocs</td>\n",
       "      <td>process</td>\n",
       "      <td>1</td>\n",
       "      <td>94</td>\n",
       "      <td>0</td>\n",
       "      <td>0</td>\n",
       "      <td>0</td>\n",
       "      <td>0</td>\n",
       "      <td>0</td>\n",
       "      <td>0</td>\n",
       "      <td>0</td>\n",
       "      <td>0</td>\n",
       "      <td>0</td>\n",
       "      <td>0</td>\n",
       "    </tr>\n",
       "  </tbody>\n",
       "</table><p>*Number of related records cached.</p></div>"
      ]
     },
     "metadata": {},
     "output_type": "display_data"
    }
   ],
   "source": [
    "sprocs = procs where command_line LIKE '%vbs%'"
   ]
  },
  {
   "cell_type": "code",
   "execution_count": 4,
   "id": "c6433f64",
   "metadata": {},
   "outputs": [
    {
     "name": "stderr",
     "output_type": "stream",
     "text": []
    },
    {
     "data": {
      "text/html": [
       "<table border=\"1\" class=\"dataframe\">\n",
       "  <thead>\n",
       "    <tr style=\"text-align: right;\">\n",
       "      <th>pid</th>\n",
       "      <th>x_unique_id</th>\n",
       "      <th>created</th>\n",
       "      <th>name</th>\n",
       "      <th>command_line</th>\n",
       "      <th>id</th>\n",
       "      <th>binary_ref.name</th>\n",
       "      <th>binary_ref.hashes.'SHA-1'</th>\n",
       "      <th>binary_ref.hashes.MD5</th>\n",
       "      <th>binary_ref.hashes.'SHA-256'</th>\n",
       "      <th>binary_ref.id</th>\n",
       "      <th>binary_ref.parent_directory_ref.path</th>\n",
       "      <th>binary_ref.parent_directory_ref.id</th>\n",
       "      <th>parent_ref.pid</th>\n",
       "      <th>parent_ref.x_unique_id</th>\n",
       "      <th>parent_ref.created</th>\n",
       "      <th>parent_ref.name</th>\n",
       "      <th>parent_ref.command_line</th>\n",
       "      <th>parent_ref.id</th>\n",
       "      <th>parent_ref.parent_ref.pid</th>\n",
       "      <th>parent_ref.parent_ref.x_unique_id</th>\n",
       "      <th>parent_ref.parent_ref.created</th>\n",
       "      <th>parent_ref.parent_ref.name</th>\n",
       "      <th>parent_ref.parent_ref.command_line</th>\n",
       "      <th>parent_ref.parent_ref.id</th>\n",
       "      <th>parent_ref.binary_ref.name</th>\n",
       "      <th>parent_ref.binary_ref.hashes.'SHA-1'</th>\n",
       "      <th>parent_ref.binary_ref.hashes.MD5</th>\n",
       "      <th>parent_ref.binary_ref.hashes.'SHA-256'</th>\n",
       "      <th>parent_ref.binary_ref.id</th>\n",
       "      <th>parent_ref.binary_ref.parent_directory_ref.path</th>\n",
       "      <th>parent_ref.binary_ref.parent_directory_ref.id</th>\n",
       "      <th>parent_ref.creator_user_ref.user_id</th>\n",
       "      <th>parent_ref.creator_user_ref.id</th>\n",
       "      <th>creator_user_ref.user_id</th>\n",
       "      <th>creator_user_ref.id</th>\n",
       "    </tr>\n",
       "  </thead>\n",
       "  <tbody>\n",
       "    <tr>\n",
       "      <td>2440</td>\n",
       "      <td>{860ba2e3-9f13-5f52-2603-000000000400}</td>\n",
       "      <td>2020-09-04T20:09:55.035Z</td>\n",
       "      <td>wscript.exe</td>\n",
       "      <td>\"C:\\windows\\System32\\WScript.exe\" \"C:\\Users\\pgustavo\\Desktop\\launcher.vbs\"</td>\n",
       "      <td>process--7689927f-953c-513d-8035-36c3da40891d</td>\n",
       "      <td>wscript.exe</td>\n",
       "      <td>None</td>\n",
       "      <td>None</td>\n",
       "      <td>None</td>\n",
       "      <td>file--5cbccb25-c939-5d6b-ac9f-0cd4bc066412</td>\n",
       "      <td>C:\\Windows\\System32</td>\n",
       "      <td>directory--0a58d0c1-59e6-5afd-8252-dcd3f13e5622</td>\n",
       "      <td>5728</td>\n",
       "      <td>{860ba2e3-993f-5f52-8402-000000000400}</td>\n",
       "      <td>None</td>\n",
       "      <td>explorer.exe</td>\n",
       "      <td>C:\\windows\\Explorer.EXE</td>\n",
       "      <td>process--8009fc63-de86-5a87-af34-77be3659313f</td>\n",
       "      <td>None</td>\n",
       "      <td>None</td>\n",
       "      <td>None</td>\n",
       "      <td>None</td>\n",
       "      <td>None</td>\n",
       "      <td>None</td>\n",
       "      <td>explorer.exe</td>\n",
       "      <td>None</td>\n",
       "      <td>None</td>\n",
       "      <td>None</td>\n",
       "      <td>file--f582b404-843b-5d99-a432-e287de70baf7</td>\n",
       "      <td>C:\\Windows</td>\n",
       "      <td>directory--30b6c25d-82f4-51af-a3c8-51cb692dfd0a</td>\n",
       "      <td>None</td>\n",
       "      <td>None</td>\n",
       "      <td>THESHIRE\\pgustavo</td>\n",
       "      <td>user-account--2dfb4c1a-ebd5-5c42-a8f1-26acde5c50eb</td>\n",
       "    </tr>\n",
       "  </tbody>\n",
       "</table>"
      ]
     },
     "metadata": {},
     "output_type": "display_data"
    }
   ],
   "source": [
    "DISP sprocs"
   ]
  },
  {
   "cell_type": "code",
   "execution_count": null,
   "id": "d2a26884",
   "metadata": {},
   "outputs": [],
   "source": []
  }
 ],
 "metadata": {
  "kernelspec": {
   "display_name": "Kestrel",
   "language": "kestrel",
   "name": "kestrel"
  },
  "language_info": {
   "file_extension": ".hf",
   "name": "kestrel"
  }
 },
 "nbformat": 4,
 "nbformat_minor": 5
}
