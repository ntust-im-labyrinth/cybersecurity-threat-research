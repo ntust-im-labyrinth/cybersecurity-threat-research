{
 "cells": [
  {
   "cell_type": "markdown",
   "id": "48d27915",
   "metadata": {},
   "source": [
    "## Huntbook\n",
    "# Tracing Empire Remote Code Execution to Add Backdoor User (via WMI)\n",
    "\n",
    "This interactive Kestrel huntbook is about tracing an adversary, remoteley executing code to add a backdoor user on the target system with the WMI.\n",
    "\n",
    "## Dataset Description\n",
    "\n",
    "The dataset is showing, how the WMI is used to execute code remotely. The focus is on the use of the WMI Win32_Process class and the method \"Create\".\n",
    "\n",
    "Dataset: https://raw.githubusercontent.com/OTRF/Security-Datasets/master/datasets/atomic/windows/lateral_movement/host/empire_wmic_add_user_backdoor.zip\n",
    "\n",
    "## Adversary View\n",
    "```\n",
    "(Empire: agents) > \n",
    "[*] Sending POWERSHELL stager (stage 1) to 172.18.39.5\n",
    "[*] New agent 6Z78CY25 checked in\n",
    "[+] Initial agent 6Z78CY25 from 172.18.39.5 now active (Slack)\n",
    "[*] Sending agent (stage 2) to 6Z78CY25 at 172.18.39.5\n",
    "agents\n",
    "\n",
    "[*] Active agents:\n",
    "\n",
    "Name     La Internal IP     Machine Name      Username                Process            PID    Delay    Last Seen            Listener\n",
    "----     -- -----------     ------------      --------                -------            ---    -----    ---------            ----------------\n",
    "KFL6CMNZ ps 172.18.39.5     WORKSTATION5      *THESHIRE\\pgustavo      powershell         7584   5/0.0    2020-09-14 11:33:59  http            \n",
    "YGBLW8EM ps 172.18.39.5     WORKSTATION5      *THESHIRE\\wardog        powershell         8924   5/0.0    2020-09-14 11:40:53  http            \n",
    "UBCKLYFA ps 172.18.39.5     WORKSTATION5      *THESHIRE\\pgustavo      powershell         5412   5/0.0    2020-09-14 11:57:16  http            \n",
    "\n",
    "6Z78CY25 ps 172.18.39.5     WORKSTATION5      *THESHIRE\\pgustavo      powershell         9564   5/0.0    2020-09-14 12:02:08  http            \n",
    "\n",
    "(Empire: agents) > interact 6Z78CY25\n",
    "(Empire: 6Z78CY25) > \n",
    "(Empire: 6Z78CY25) > shell wmic /node:WORKSTATION6 process call create \"net user /add backdoor pa$$w0rd1\"\n",
    "[*] Tasked 6Z78CY25 to run TASK_SHELL\n",
    "[*] Agent 6Z78CY25 tasked with task ID 1\n",
    "(Empire: 6Z78CY25) > \n",
    "Executing (Win32_Process)->Create()\n",
    "\n",
    "Method execution successful.\n",
    "\n",
    "Out Parameters:\n",
    "instance of __PARAMETERS\n",
    "{\n",
    "  ProcessId = 7768;\n",
    "  ReturnValue = 0;\n",
    "};\n",
    "\n",
    "..Command execution completed.\n",
    "\n",
    "(Empire: 6Z78CY25) >\n",
    "\n",
    "```\n",
    "\n",
    "Source: https://securitydatasets.com/notebooks/atomic/windows/execution/SDWIN-200914080546.html"
   ]
  },
  {
   "cell_type": "markdown",
   "id": "25395705",
   "metadata": {},
   "source": [
    "## Tactics & Techniques\n",
    "\n",
    "For the attack, the tactics [TA0002](https://attack.mitre.org/tactics/TA0002/),[TA0008](https://attack.mitre.org/tactics/TA0008/) and techniques [T1047](https://attack.mitre.org/techniques/T1047/) are used.\n",
    "\n",
    "The adversary uses Lateral Movement to enter and control the system remotely and Execution techniques to run code. The Windows Management Instrumentation (WMI) is abused to execute the malicious commands. \n"
   ]
  },
  {
   "cell_type": "markdown",
   "id": "3d9a6e5d",
   "metadata": {},
   "source": [
    "## Get Processes and Filter for \"WMIC\"\n",
    "\n",
    "First we look for all processes from the dataset, that are connected to activities with WMIC.\n",
    "\n",
    "WMIC is a tool that allows command-line access to the WMI. With this tool, it is possible to query the operating system for detailed information about installed hardware and Windows settings, run management tasks, and even execute other programs or commands. In this case it was used for the last case, executing commands."
   ]
  },
  {
   "cell_type": "code",
   "execution_count": 19,
   "id": "a792c0ca",
   "metadata": {},
   "outputs": [
    {
     "name": "stderr",
     "output_type": "stream",
     "text": []
    },
    {
     "data": {
      "text/html": [
       "<div><h4>Block Executed in 47 seconds</h4><table border=\"1\" class=\"dataframe\">\n",
       "  <thead>\n",
       "    <tr style=\"text-align: right;\">\n",
       "      <th>VARIABLE</th>\n",
       "      <th>TYPE</th>\n",
       "      <th>#(ENTITIES)</th>\n",
       "      <th>#(RECORDS)</th>\n",
       "      <th>artifact*</th>\n",
       "      <th>directory*</th>\n",
       "      <th>file*</th>\n",
       "      <th>ipv4-addr*</th>\n",
       "      <th>network-traffic*</th>\n",
       "      <th>process*</th>\n",
       "      <th>user-account*</th>\n",
       "      <th>windows-registry-key*</th>\n",
       "      <th>x-oca-asset*</th>\n",
       "      <th>x-oca-event*</th>\n",
       "    </tr>\n",
       "  </thead>\n",
       "  <tbody>\n",
       "    <tr>\n",
       "      <td>procs</td>\n",
       "      <td>process</td>\n",
       "      <td>1</td>\n",
       "      <td>154</td>\n",
       "      <td>170</td>\n",
       "      <td>285</td>\n",
       "      <td>293</td>\n",
       "      <td>4</td>\n",
       "      <td>2</td>\n",
       "      <td>174</td>\n",
       "      <td>5</td>\n",
       "      <td>31</td>\n",
       "      <td>170</td>\n",
       "      <td>170</td>\n",
       "    </tr>\n",
       "  </tbody>\n",
       "</table><p>*Number of related records cached.</p></div>"
      ]
     },
     "metadata": {},
     "output_type": "display_data"
    }
   ],
   "source": [
    "procs = GET process from https://raw.githubusercontent.com/OTRF/Security-Datasets/master/datasets/atomic/windows/lateral_movement/host/empire_wmic_add_user_backdoor.zip \n",
    "where command_line LIKE '%WMIC%'"
   ]
  },
  {
   "cell_type": "markdown",
   "id": "49604468",
   "metadata": {},
   "source": [
    "We found records to one process entity. To examine the process further, we display it."
   ]
  },
  {
   "cell_type": "code",
   "execution_count": 20,
   "id": "6662ad6a",
   "metadata": {},
   "outputs": [
    {
     "name": "stderr",
     "output_type": "stream",
     "text": []
    },
    {
     "data": {
      "text/html": [
       "<table border=\"1\" class=\"dataframe\">\n",
       "  <thead>\n",
       "    <tr style=\"text-align: right;\">\n",
       "      <th>pid</th>\n",
       "      <th>x_unique_id</th>\n",
       "      <th>created</th>\n",
       "      <th>name</th>\n",
       "      <th>command_line</th>\n",
       "    </tr>\n",
       "  </thead>\n",
       "  <tbody>\n",
       "    <tr>\n",
       "      <td>9428</td>\n",
       "      <td>{2d351099-5ca9-5f5f-2f04-000000000400}</td>\n",
       "      <td>2020-09-14T12:06:01.826Z</td>\n",
       "      <td>WMIC.exe</td>\n",
       "      <td>\"C:\\windows\\System32\\Wbem\\WMIC.exe\" /node:WORKSTATION6 process call create \"net user /add backdoor paw0rd1\"</td>\n",
       "    </tr>\n",
       "  </tbody>\n",
       "</table>\n",
       "<div><h4>Block Executed in 1 seconds</h4><table border=\"1\" class=\"dataframe\">\n",
       "  <thead>\n",
       "    <tr style=\"text-align: right;\">\n",
       "      <th>VARIABLE</th>\n",
       "      <th>TYPE</th>\n",
       "      <th>#(ENTITIES)</th>\n",
       "      <th>#(RECORDS)</th>\n",
       "      <th>artifact*</th>\n",
       "      <th>directory*</th>\n",
       "      <th>file*</th>\n",
       "      <th>ipv4-addr*</th>\n",
       "      <th>network-traffic*</th>\n",
       "      <th>process*</th>\n",
       "      <th>user-account*</th>\n",
       "      <th>windows-registry-key*</th>\n",
       "      <th>x-oca-asset*</th>\n",
       "      <th>x-oca-event*</th>\n",
       "    </tr>\n",
       "  </thead>\n",
       "  <tbody>\n",
       "    <tr>\n",
       "      <td>sproc</td>\n",
       "      <td>process</td>\n",
       "      <td>1</td>\n",
       "      <td>154</td>\n",
       "      <td>0</td>\n",
       "      <td>0</td>\n",
       "      <td>0</td>\n",
       "      <td>0</td>\n",
       "      <td>0</td>\n",
       "      <td>0</td>\n",
       "      <td>0</td>\n",
       "      <td>0</td>\n",
       "      <td>0</td>\n",
       "      <td>0</td>\n",
       "    </tr>\n",
       "  </tbody>\n",
       "</table><p>*Number of related records cached.</p></div>"
      ]
     },
     "metadata": {},
     "output_type": "display_data"
    }
   ],
   "source": [
    "DISP procs ATTR pid, x_unique_id, created, name, command_line \n",
    "\n",
    "sproc = procs"
   ]
  },
  {
   "cell_type": "markdown",
   "id": "c9776647",
   "metadata": {},
   "source": [
    "In the process we see, thet WMIC.exe is used, to create a process on WORKSTATION6 to execute the malicious code."
   ]
  },
  {
   "cell_type": "markdown",
   "id": "9cc3e27b",
   "metadata": {},
   "source": [
    "## Analyze the Process\n",
    "In the next hunting step, we analyze the suspicious process we found."
   ]
  },
  {
   "cell_type": "markdown",
   "id": "87be9763",
   "metadata": {},
   "source": [
    "To find related processes, we need to look for the WMI Provider Host (`WmiPrvSE.exe`)."
   ]
  },
  {
   "cell_type": "code",
   "execution_count": 21,
   "id": "d2cacf15",
   "metadata": {
    "scrolled": true
   },
   "outputs": [
    {
     "name": "stderr",
     "output_type": "stream",
     "text": []
    },
    {
     "data": {
      "text/html": [
       "<div><h4>Block Executed in 34 seconds</h4><table border=\"1\" class=\"dataframe\">\n",
       "  <thead>\n",
       "    <tr style=\"text-align: right;\">\n",
       "      <th>VARIABLE</th>\n",
       "      <th>TYPE</th>\n",
       "      <th>#(ENTITIES)</th>\n",
       "      <th>#(RECORDS)</th>\n",
       "      <th>artifact*</th>\n",
       "      <th>directory*</th>\n",
       "      <th>file*</th>\n",
       "      <th>ipv4-addr*</th>\n",
       "      <th>network-traffic*</th>\n",
       "      <th>process*</th>\n",
       "      <th>user-account*</th>\n",
       "      <th>windows-registry-key*</th>\n",
       "      <th>x-oca-asset*</th>\n",
       "      <th>x-oca-event*</th>\n",
       "    </tr>\n",
       "  </thead>\n",
       "  <tbody>\n",
       "    <tr>\n",
       "      <td>wmiprovhost</td>\n",
       "      <td>process</td>\n",
       "      <td>2</td>\n",
       "      <td>258</td>\n",
       "      <td>280</td>\n",
       "      <td>468</td>\n",
       "      <td>513</td>\n",
       "      <td>0</td>\n",
       "      <td>0</td>\n",
       "      <td>292</td>\n",
       "      <td>14</td>\n",
       "      <td>30</td>\n",
       "      <td>280</td>\n",
       "      <td>280</td>\n",
       "    </tr>\n",
       "  </tbody>\n",
       "</table><p>*Number of related records cached.</p></div>"
      ]
     },
     "metadata": {},
     "output_type": "display_data"
    }
   ],
   "source": [
    "wmiprovhost = GET process WHERE command_line like '%wmiprvse%'"
   ]
  },
  {
   "cell_type": "code",
   "execution_count": 22,
   "id": "553a9a27",
   "metadata": {},
   "outputs": [
    {
     "name": "stderr",
     "output_type": "stream",
     "text": []
    },
    {
     "data": {
      "text/html": [
       "<table border=\"1\" class=\"dataframe\">\n",
       "  <thead>\n",
       "    <tr style=\"text-align: right;\">\n",
       "      <th>pid</th>\n",
       "      <th>x_unique_id</th>\n",
       "      <th>created</th>\n",
       "      <th>name</th>\n",
       "      <th>command_line</th>\n",
       "    </tr>\n",
       "  </thead>\n",
       "  <tbody>\n",
       "    <tr>\n",
       "      <td>3952</td>\n",
       "      <td>{83d0c8c3-5caa-5f5f-f002-000000000400}</td>\n",
       "      <td>2020-09-14T12:06:02.209Z</td>\n",
       "      <td>WmiPrvSE.exe</td>\n",
       "      <td>C:\\windows\\system32\\wbem\\wmiprvse.exe -secured -Embedding</td>\n",
       "    </tr>\n",
       "    <tr>\n",
       "      <td>7296</td>\n",
       "      <td>{2d351099-5cb0-5f5f-3804-000000000400}</td>\n",
       "      <td>2020-09-14T12:06:08.432Z</td>\n",
       "      <td>WmiPrvSE.exe</td>\n",
       "      <td>C:\\windows\\system32\\wbem\\wmiprvse.exe -secured -Embedding</td>\n",
       "    </tr>\n",
       "  </tbody>\n",
       "</table>"
      ]
     },
     "metadata": {},
     "output_type": "display_data"
    }
   ],
   "source": [
    "DISP wmiprovhost ATTR pid, x_unique_id, created, name, command_line "
   ]
  },
  {
   "cell_type": "markdown",
   "id": "d73bcedd",
   "metadata": {},
   "source": [
    "Looking at the time stamp, we see, that the processes with `pid` \"3952\" and \"7296\" are created some seconds later."
   ]
  },
  {
   "cell_type": "markdown",
   "id": "05d7771b",
   "metadata": {},
   "source": [
    "We can now drill it down even further to check, which processes are created by the WIM Provider Host."
   ]
  },
  {
   "cell_type": "code",
   "execution_count": 23,
   "id": "2ed0d9bd",
   "metadata": {},
   "outputs": [
    {
     "name": "stderr",
     "output_type": "stream",
     "text": []
    },
    {
     "data": {
      "text/html": [
       "<div><h4>Block Executed in 19 seconds</h4><table border=\"1\" class=\"dataframe\">\n",
       "  <thead>\n",
       "    <tr style=\"text-align: right;\">\n",
       "      <th>VARIABLE</th>\n",
       "      <th>TYPE</th>\n",
       "      <th>#(ENTITIES)</th>\n",
       "      <th>#(RECORDS)</th>\n",
       "      <th>artifact*</th>\n",
       "      <th>directory*</th>\n",
       "      <th>file*</th>\n",
       "      <th>ipv4-addr*</th>\n",
       "      <th>network-traffic*</th>\n",
       "      <th>process*</th>\n",
       "      <th>user-account*</th>\n",
       "      <th>windows-registry-key*</th>\n",
       "      <th>x-oca-asset*</th>\n",
       "      <th>x-oca-event*</th>\n",
       "    </tr>\n",
       "  </thead>\n",
       "  <tbody>\n",
       "    <tr>\n",
       "      <td>processes</td>\n",
       "      <td>process</td>\n",
       "      <td>1</td>\n",
       "      <td>45</td>\n",
       "      <td>301</td>\n",
       "      <td>490</td>\n",
       "      <td>554</td>\n",
       "      <td>0</td>\n",
       "      <td>0</td>\n",
       "      <td>317</td>\n",
       "      <td>17</td>\n",
       "      <td>30</td>\n",
       "      <td>301</td>\n",
       "      <td>301</td>\n",
       "    </tr>\n",
       "  </tbody>\n",
       "</table><p>*Number of related records cached.</p></div>"
      ]
     },
     "metadata": {},
     "output_type": "display_data"
    }
   ],
   "source": [
    "processes = FIND process CREATED BY wmiprovhost"
   ]
  },
  {
   "cell_type": "code",
   "execution_count": 24,
   "id": "c41412dd",
   "metadata": {},
   "outputs": [
    {
     "name": "stderr",
     "output_type": "stream",
     "text": []
    },
    {
     "data": {
      "text/html": [
       "<table border=\"1\" class=\"dataframe\">\n",
       "  <thead>\n",
       "    <tr style=\"text-align: right;\">\n",
       "      <th>pid</th>\n",
       "      <th>x_unique_id</th>\n",
       "      <th>created</th>\n",
       "      <th>name</th>\n",
       "      <th>command_line</th>\n",
       "      <th>parent_ref.pid</th>\n",
       "      <th>parent_ref.name</th>\n",
       "    </tr>\n",
       "  </thead>\n",
       "  <tbody>\n",
       "    <tr>\n",
       "      <td>7768</td>\n",
       "      <td>{83d0c8c3-5caa-5f5f-f102-000000000400}</td>\n",
       "      <td>2020-09-14T12:06:02.316Z</td>\n",
       "      <td>net.exe</td>\n",
       "      <td>net user /add backdoor paw0rd1</td>\n",
       "      <td>3952</td>\n",
       "      <td>WmiPrvSE.exe</td>\n",
       "    </tr>\n",
       "  </tbody>\n",
       "</table>"
      ]
     },
     "metadata": {},
     "output_type": "display_data"
    }
   ],
   "source": [
    "DISP processes ATTR pid, x_unique_id, created, name, command_line, parent_ref.pid, parent_ref.name"
   ]
  },
  {
   "cell_type": "markdown",
   "id": "72fd8a67",
   "metadata": {},
   "source": [
    "We now found the process with the malicious code execution that adds the backdoor user. With the parent_ref information we see, that it is created by the WIM Provider Host we checked before."
   ]
  }
 ],
 "metadata": {
  "kernelspec": {
   "display_name": "Kestrel",
   "language": "kestrel",
   "name": "kestrel"
  },
  "language_info": {
   "file_extension": ".hf",
   "name": "kestrel"
  }
 },
 "nbformat": 4,
 "nbformat_minor": 5
}
