{
 "cells": [
  {
   "cell_type": "markdown",
   "id": "ee413f68",
   "metadata": {},
   "source": [
    "**Empire Invoke DCOM ShellWindows**\n",
    "\n",
    "**Data Source:\n",
    "https://raw.githubusercontent.com/OTRF/Security-Datasets/master/datasets/atomic/windows/lateral_movement/host/empire_dcom_shellwindows_stager.zip\n",
    "\n",
    "**This dataset represents adversaries executing commands remotely via DCOM ShellWindows COM Method.**\n",
    "\n",
    "**I tried to find the activitief of adversaries using COM method.**\n",
    "\n",
    "**For the first step, I searched all the activities.**"
   ]
  },
  {
   "cell_type": "code",
   "execution_count": 6,
   "id": "219600f5",
   "metadata": {
    "scrolled": true
   },
   "outputs": [
    {
     "name": "stderr",
     "output_type": "stream",
     "text": []
    },
    {
     "data": {
      "text/html": [
       "<div><h4>Block Executed in 1 seconds</h4><table border=\"1\" class=\"dataframe\">\n",
       "  <thead>\n",
       "    <tr style=\"text-align: right;\">\n",
       "      <th>VARIABLE</th>\n",
       "      <th>TYPE</th>\n",
       "      <th>#(ENTITIES)</th>\n",
       "      <th>#(RECORDS)</th>\n",
       "      <th>artifact*</th>\n",
       "      <th>directory*</th>\n",
       "      <th>file*</th>\n",
       "      <th>ipv4-addr*</th>\n",
       "      <th>network-traffic*</th>\n",
       "      <th>process*</th>\n",
       "      <th>user-account*</th>\n",
       "      <th>windows-registry-key*</th>\n",
       "      <th>x-oca-asset*</th>\n",
       "      <th>x-oca-event*</th>\n",
       "    </tr>\n",
       "  </thead>\n",
       "  <tbody>\n",
       "    <tr>\n",
       "      <td>procs</td>\n",
       "      <td>process</td>\n",
       "      <td>90</td>\n",
       "      <td>23510</td>\n",
       "      <td>11</td>\n",
       "      <td>27383</td>\n",
       "      <td>33211</td>\n",
       "      <td>208</td>\n",
       "      <td>104</td>\n",
       "      <td>23442</td>\n",
       "      <td>256</td>\n",
       "      <td>12562</td>\n",
       "      <td>23281</td>\n",
       "      <td>23281</td>\n",
       "    </tr>\n",
       "  </tbody>\n",
       "</table><p>*Number of related records cached.</p></div>"
      ]
     },
     "metadata": {},
     "output_type": "display_data"
    }
   ],
   "source": [
    "procs = GET process from https://raw.githubusercontent.com/OTRF/Security-Datasets/master/datasets/atomic/windows/lateral_movement/host/empire_dcom_shellwindows_stager.zip WHERE [process:command_line LIKE '%']"
   ]
  },
  {
   "cell_type": "markdown",
   "id": "4a8ca9c4",
   "metadata": {},
   "source": [
    "**Then I tried to find any WMIC activities:**"
   ]
  },
  {
   "cell_type": "code",
   "execution_count": 7,
   "id": "46ccb5b5",
   "metadata": {},
   "outputs": [
    {
     "name": "stderr",
     "output_type": "stream",
     "text": []
    },
    {
     "data": {
      "text/html": [
       "<div><h4>Block Executed in 1 seconds</h4><table border=\"1\" class=\"dataframe\">\n",
       "  <thead>\n",
       "    <tr style=\"text-align: right;\">\n",
       "      <th>VARIABLE</th>\n",
       "      <th>TYPE</th>\n",
       "      <th>#(ENTITIES)</th>\n",
       "      <th>#(RECORDS)</th>\n",
       "      <th>artifact*</th>\n",
       "      <th>directory*</th>\n",
       "      <th>file*</th>\n",
       "      <th>ipv4-addr*</th>\n",
       "      <th>network-traffic*</th>\n",
       "      <th>process*</th>\n",
       "      <th>user-account*</th>\n",
       "      <th>windows-registry-key*</th>\n",
       "      <th>x-oca-asset*</th>\n",
       "      <th>x-oca-event*</th>\n",
       "    </tr>\n",
       "  </thead>\n",
       "  <tbody>\n",
       "    <tr>\n",
       "      <td>sprocs</td>\n",
       "      <td>process</td>\n",
       "      <td>0</td>\n",
       "      <td>0</td>\n",
       "      <td>0</td>\n",
       "      <td>0</td>\n",
       "      <td>0</td>\n",
       "      <td>0</td>\n",
       "      <td>0</td>\n",
       "      <td>0</td>\n",
       "      <td>0</td>\n",
       "      <td>0</td>\n",
       "      <td>0</td>\n",
       "      <td>0</td>\n",
       "    </tr>\n",
       "  </tbody>\n",
       "</table><p>*Number of related records cached.</p></div>"
      ]
     },
     "metadata": {},
     "output_type": "display_data"
    }
   ],
   "source": [
    "sprocs = procs where command_line LIKE '%WMIC%'"
   ]
  },
  {
   "cell_type": "markdown",
   "id": "32843992",
   "metadata": {},
   "source": [
    "**But there was none record regarding WMIC.**\n",
    "\n",
    "**Then my aim is to find any activities using DCOM Shellwindows COM method.**\n",
    "**So lets find any DCOM activity:**"
   ]
  },
  {
   "cell_type": "code",
   "execution_count": 8,
   "id": "a366162e",
   "metadata": {},
   "outputs": [
    {
     "name": "stderr",
     "output_type": "stream",
     "text": []
    },
    {
     "data": {
      "text/html": [
       "<div><h4>Block Executed in 1 seconds</h4><table border=\"1\" class=\"dataframe\">\n",
       "  <thead>\n",
       "    <tr style=\"text-align: right;\">\n",
       "      <th>VARIABLE</th>\n",
       "      <th>TYPE</th>\n",
       "      <th>#(ENTITIES)</th>\n",
       "      <th>#(RECORDS)</th>\n",
       "      <th>artifact*</th>\n",
       "      <th>directory*</th>\n",
       "      <th>file*</th>\n",
       "      <th>ipv4-addr*</th>\n",
       "      <th>network-traffic*</th>\n",
       "      <th>process*</th>\n",
       "      <th>user-account*</th>\n",
       "      <th>windows-registry-key*</th>\n",
       "      <th>x-oca-asset*</th>\n",
       "      <th>x-oca-event*</th>\n",
       "    </tr>\n",
       "  </thead>\n",
       "  <tbody>\n",
       "    <tr>\n",
       "      <td>sprocs</td>\n",
       "      <td>process</td>\n",
       "      <td>1</td>\n",
       "      <td>2245</td>\n",
       "      <td>0</td>\n",
       "      <td>0</td>\n",
       "      <td>0</td>\n",
       "      <td>0</td>\n",
       "      <td>0</td>\n",
       "      <td>0</td>\n",
       "      <td>0</td>\n",
       "      <td>0</td>\n",
       "      <td>0</td>\n",
       "      <td>0</td>\n",
       "    </tr>\n",
       "  </tbody>\n",
       "</table><p>*Number of related records cached.</p></div>"
      ]
     },
     "metadata": {},
     "output_type": "display_data"
    }
   ],
   "source": [
    "sprocs = procs where command_line LIKE '%DCOM%'"
   ]
  },
  {
   "cell_type": "markdown",
   "id": "c3ebc779",
   "metadata": {},
   "source": [
    "**I found multiple records of 1 unique process entity. Let's examine those:**"
   ]
  },
  {
   "cell_type": "code",
   "execution_count": 9,
   "id": "224222c0",
   "metadata": {},
   "outputs": [
    {
     "name": "stderr",
     "output_type": "stream",
     "text": []
    },
    {
     "data": {
      "text/html": [
       "<table border=\"1\" class=\"dataframe\">\n",
       "  <thead>\n",
       "    <tr style=\"text-align: right;\">\n",
       "      <th>created</th>\n",
       "      <th>command_line</th>\n",
       "      <th>pid</th>\n",
       "      <th>x_unique_id</th>\n",
       "    </tr>\n",
       "  </thead>\n",
       "  <tbody>\n",
       "    <tr>\n",
       "      <td>None</td>\n",
       "      <td>C:\\windows\\system32\\svchost.exe -k DcomLaunch -p</td>\n",
       "      <td>960</td>\n",
       "      <td>{d273d0f0-e866-5f64-1100-000000000800}</td>\n",
       "    </tr>\n",
       "  </tbody>\n",
       "</table>"
      ]
     },
     "metadata": {},
     "output_type": "display_data"
    }
   ],
   "source": [
    "DISP sprocs ATTR created, command_line, pid, x_unique_id"
   ]
  },
  {
   "cell_type": "markdown",
   "id": "d8b39d1c",
   "metadata": {},
   "source": [
    "**The command line alone gives this one away: \n",
    "svchost.exe is used to create a new process. **\n",
    "\n",
    "**The threat actors use svchost.exe to spawn arbitrary processes through DCOM.**\n",
    "\n",
    "**Let's try to find those processes by looking for the svc host (svchost.exe):**"
   ]
  },
  {
   "cell_type": "code",
   "execution_count": 10,
   "id": "5829039e",
   "metadata": {
    "scrolled": false
   },
   "outputs": [
    {
     "name": "stderr",
     "output_type": "stream",
     "text": []
    },
    {
     "data": {
      "text/html": [
       "<div><h4>Block Executed in 34 seconds</h4><table border=\"1\" class=\"dataframe\">\n",
       "  <thead>\n",
       "    <tr style=\"text-align: right;\">\n",
       "      <th>VARIABLE</th>\n",
       "      <th>TYPE</th>\n",
       "      <th>#(ENTITIES)</th>\n",
       "      <th>#(RECORDS)</th>\n",
       "      <th>artifact*</th>\n",
       "      <th>directory*</th>\n",
       "      <th>file*</th>\n",
       "      <th>ipv4-addr*</th>\n",
       "      <th>network-traffic*</th>\n",
       "      <th>process*</th>\n",
       "      <th>user-account*</th>\n",
       "      <th>windows-registry-key*</th>\n",
       "      <th>x-oca-asset*</th>\n",
       "      <th>x-oca-event*</th>\n",
       "    </tr>\n",
       "  </thead>\n",
       "  <tbody>\n",
       "    <tr>\n",
       "      <td>svchost_procs</td>\n",
       "      <td>process</td>\n",
       "      <td>17</td>\n",
       "      <td>7642</td>\n",
       "      <td>12</td>\n",
       "      <td>29960</td>\n",
       "      <td>36501</td>\n",
       "      <td>270</td>\n",
       "      <td>135</td>\n",
       "      <td>26174</td>\n",
       "      <td>352</td>\n",
       "      <td>14339</td>\n",
       "      <td>25845</td>\n",
       "      <td>25845</td>\n",
       "    </tr>\n",
       "  </tbody>\n",
       "</table><p>*Number of related records cached.</p></div>"
      ]
     },
     "metadata": {},
     "output_type": "display_data"
    }
   ],
   "source": [
    "svchost_procs = GET process WHERE [process:command_line LIKE '%svchost%']"
   ]
  },
  {
   "cell_type": "code",
   "execution_count": 11,
   "id": "8fef96cb",
   "metadata": {
    "scrolled": true
   },
   "outputs": [
    {
     "name": "stderr",
     "output_type": "stream",
     "text": []
    },
    {
     "data": {
      "text/html": [
       "<table border=\"1\" class=\"dataframe\">\n",
       "  <thead>\n",
       "    <tr style=\"text-align: right;\">\n",
       "      <th>created</th>\n",
       "      <th>command_line</th>\n",
       "      <th>pid</th>\n",
       "      <th>x_unique_id</th>\n",
       "    </tr>\n",
       "  </thead>\n",
       "  <tbody>\n",
       "    <tr>\n",
       "      <td>2020-09-18T17:07:00.805Z</td>\n",
       "      <td>C:\\windows\\System32\\svchost.exe -k WerSvcGroup</td>\n",
       "      <td></td>\n",
       "      <td>{d273d0f0-e934-5f64-3b01-000000000800}</td>\n",
       "    </tr>\n",
       "    <tr>\n",
       "      <td>2020-09-18T17:06:15.124Z</td>\n",
       "      <td>C:\\windows\\system32\\svchost.exe -k ClipboardSvcGroup -p -s cbdhsvc</td>\n",
       "      <td></td>\n",
       "      <td>{d273d0f0-e907-5f64-1b01-000000000800}</td>\n",
       "    </tr>\n",
       "    <tr>\n",
       "      <td>2020-09-18T17:06:08.390Z</td>\n",
       "      <td>C:\\windows\\system32\\svchost.exe -k netsvcs -p -s DsmSvc</td>\n",
       "      <td></td>\n",
       "      <td>{d273d0f0-e900-5f64-0b01-000000000800}</td>\n",
       "    </tr>\n",
       "    <tr>\n",
       "      <td>2020-09-18T17:06:04.431Z</td>\n",
       "      <td>C:\\windows\\System32\\svchost.exe -k LocalServiceNetworkRestricted -p -s wscsvc</td>\n",
       "      <td></td>\n",
       "      <td>{d273d0f0-e8fc-5f64-0201-000000000800}</td>\n",
       "    </tr>\n",
       "    <tr>\n",
       "      <td>None</td>\n",
       "      <td>C:\\windows\\system32\\svchost.exe -k netsvcs -p -s UserManager</td>\n",
       "      <td>1284.0</td>\n",
       "      <td>{d273d0f0-e867-5f64-1b00-000000000800}</td>\n",
       "    </tr>\n",
       "    <tr>\n",
       "      <td>2020-09-18T17:07:26.352Z</td>\n",
       "      <td>C:\\windows\\System32\\svchost.exe -k netsvcs -p -s NetSetupSvc</td>\n",
       "      <td></td>\n",
       "      <td>{d273d0f0-e94e-5f64-4001-000000000800}</td>\n",
       "    </tr>\n",
       "    <tr>\n",
       "      <td>2020-09-18T17:08:11.681Z</td>\n",
       "      <td>C:\\windows\\system32\\svchost.exe -k UnistackSvcGroup</td>\n",
       "      <td></td>\n",
       "      <td>{d273d0f0-e97b-5f64-4701-000000000800}</td>\n",
       "    </tr>\n",
       "    <tr>\n",
       "      <td>2020-09-18T17:06:44.689Z</td>\n",
       "      <td>C:\\windows\\System32\\svchost.exe -k netsvcs -p</td>\n",
       "      <td></td>\n",
       "      <td>{d273d0f0-e924-5f64-3201-000000000800}</td>\n",
       "    </tr>\n",
       "    <tr>\n",
       "      <td>2020-09-18T17:06:11.539Z</td>\n",
       "      <td>C:\\windows\\system32\\svchost.exe -k UnistackSvcGroup -s CDPUserSvc</td>\n",
       "      <td></td>\n",
       "      <td>{d273d0f0-e903-5f64-1001-000000000800}</td>\n",
       "    </tr>\n",
       "    <tr>\n",
       "      <td>2020-09-18T17:06:03.321Z</td>\n",
       "      <td>C:\\windows\\System32\\svchost.exe -k NetworkService -p</td>\n",
       "      <td></td>\n",
       "      <td>{d273d0f0-e8fb-5f64-0001-000000000800}</td>\n",
       "    </tr>\n",
       "    <tr>\n",
       "      <td>None</td>\n",
       "      <td>C:\\windows\\system32\\svchost.exe -k DcomLaunch -p</td>\n",
       "      <td>960.0</td>\n",
       "      <td>{d273d0f0-e866-5f64-1100-000000000800}</td>\n",
       "    </tr>\n",
       "    <tr>\n",
       "      <td>None</td>\n",
       "      <td>C:\\windows\\system32\\svchost.exe -k netsvcs -p -s Schedule</td>\n",
       "      <td>1184.0</td>\n",
       "      <td>{d273d0f0-e867-5f64-1900-000000000800}</td>\n",
       "    </tr>\n",
       "    <tr>\n",
       "      <td>2020-09-18T17:06:11.617Z</td>\n",
       "      <td>C:\\windows\\system32\\svchost.exe -k UnistackSvcGroup -s WpnUserService</td>\n",
       "      <td></td>\n",
       "      <td>{d273d0f0-e903-5f64-1101-000000000800}</td>\n",
       "    </tr>\n",
       "    <tr>\n",
       "      <td>None</td>\n",
       "      <td>C:\\windows\\system32\\svchost.exe -k netsvcs -p -s Winmgmt</td>\n",
       "      <td>3056.0</td>\n",
       "      <td>{d273d0f0-e873-5f64-4100-000000000800}</td>\n",
       "    </tr>\n",
       "    <tr>\n",
       "      <td>2020-09-18T17:06:39.437Z</td>\n",
       "      <td>C:\\windows\\System32\\svchost.exe -k netsvcs -p -s PushToInstall</td>\n",
       "      <td></td>\n",
       "      <td>{d273d0f0-e91f-5f64-2f01-000000000800}</td>\n",
       "    </tr>\n",
       "    <tr>\n",
       "      <td>None</td>\n",
       "      <td>C:\\windows\\System32\\svchost.exe -k LocalSystemNetworkRestricted -p -s TabletInputService</td>\n",
       "      <td>6604.0</td>\n",
       "      <td>{d273d0f0-e899-5f64-9e00-000000000800}</td>\n",
       "    </tr>\n",
       "    <tr>\n",
       "      <td>None</td>\n",
       "      <td>C:\\windows\\System32\\svchost.exe -k NetworkService -s TermService</td>\n",
       "      <td>1060.0</td>\n",
       "      <td>{d273d0f0-e867-5f64-1700-000000000800}</td>\n",
       "    </tr>\n",
       "  </tbody>\n",
       "</table>"
      ]
     },
     "metadata": {},
     "output_type": "display_data"
    }
   ],
   "source": [
    "DISP svchost_procs ATTR created, command_line, pid, x_unique_id"
   ]
  },
  {
   "cell_type": "markdown",
   "id": "a77f7ba8",
   "metadata": {},
   "source": [
    "**There I can see several pids.**\n",
    "\n",
    "**I will try to find the processes created by those instances:**"
   ]
  },
  {
   "cell_type": "code",
   "execution_count": 12,
   "id": "e431ebf7",
   "metadata": {},
   "outputs": [
    {
     "name": "stderr",
     "output_type": "stream",
     "text": []
    },
    {
     "data": {
      "text/html": [
       "<div><h4>Block Executed in 24 seconds</h4><table border=\"1\" class=\"dataframe\">\n",
       "  <thead>\n",
       "    <tr style=\"text-align: right;\">\n",
       "      <th>VARIABLE</th>\n",
       "      <th>TYPE</th>\n",
       "      <th>#(ENTITIES)</th>\n",
       "      <th>#(RECORDS)</th>\n",
       "      <th>artifact*</th>\n",
       "      <th>directory*</th>\n",
       "      <th>file*</th>\n",
       "      <th>ipv4-addr*</th>\n",
       "      <th>network-traffic*</th>\n",
       "      <th>process*</th>\n",
       "      <th>user-account*</th>\n",
       "      <th>windows-registry-key*</th>\n",
       "      <th>x-oca-asset*</th>\n",
       "      <th>x-oca-event*</th>\n",
       "    </tr>\n",
       "  </thead>\n",
       "  <tbody>\n",
       "    <tr>\n",
       "      <td>spawned</td>\n",
       "      <td>process</td>\n",
       "      <td>36</td>\n",
       "      <td>15794</td>\n",
       "      <td>12</td>\n",
       "      <td>36026</td>\n",
       "      <td>44070</td>\n",
       "      <td>294</td>\n",
       "      <td>147</td>\n",
       "      <td>31421</td>\n",
       "      <td>390</td>\n",
       "      <td>17037</td>\n",
       "      <td>31073</td>\n",
       "      <td>31073</td>\n",
       "    </tr>\n",
       "  </tbody>\n",
       "</table><p>*Number of related records cached.</p></div>"
      ]
     },
     "metadata": {},
     "output_type": "display_data"
    }
   ],
   "source": [
    "spawned = FIND process CREATED BY svchost_procs"
   ]
  },
  {
   "cell_type": "markdown",
   "id": "00146e5d",
   "metadata": {},
   "source": [
    "**Here are the result of created by svchost.**"
   ]
  },
  {
   "cell_type": "code",
   "execution_count": 13,
   "id": "a47e9939",
   "metadata": {},
   "outputs": [
    {
     "name": "stderr",
     "output_type": "stream",
     "text": []
    },
    {
     "data": {
      "text/html": [
       "<table border=\"1\" class=\"dataframe\">\n",
       "  <thead>\n",
       "    <tr style=\"text-align: right;\">\n",
       "      <th>created</th>\n",
       "      <th>command_line</th>\n",
       "      <th>pid</th>\n",
       "      <th>x_unique_id</th>\n",
       "      <th>parent_ref.x_unique_id</th>\n",
       "    </tr>\n",
       "  </thead>\n",
       "  <tbody>\n",
       "    <tr>\n",
       "      <td>2020-09-18T17:06:11.096Z</td>\n",
       "      <td>C:\\windows\\system32\\TSTheme.exe -Embedding</td>\n",
       "      <td></td>\n",
       "      <td>{d273d0f0-e903-5f64-0c01-000000000800}</td>\n",
       "      <td>{d273d0f0-e866-5f64-1100-000000000800}</td>\n",
       "    </tr>\n",
       "    <tr>\n",
       "      <td>2020-09-18T17:08:22.991Z</td>\n",
       "      <td>\"C:\\Windows\\SystemApps\\ShellExperienceHost_cw5n1h2txyewy\\ShellExperienceHost.exe\" -ServerName:App.AppXtk181tbxbce2qsex02s8tw7hfxa9xb3t.mca</td>\n",
       "      <td></td>\n",
       "      <td>{d273d0f0-e986-5f64-4901-000000000800}</td>\n",
       "      <td>{d273d0f0-e866-5f64-1100-000000000800}</td>\n",
       "    </tr>\n",
       "    <tr>\n",
       "      <td>2020-09-18T17:06:49.852Z</td>\n",
       "      <td>\"C:\\windows\\system32\\BackgroundTaskHost.exe\" -ServerName:BackgroundTaskHost.WebAccountProvider</td>\n",
       "      <td></td>\n",
       "      <td>{d273d0f0-e929-5f64-3701-000000000800}</td>\n",
       "      <td>{d273d0f0-e866-5f64-1100-000000000800}</td>\n",
       "    </tr>\n",
       "    <tr>\n",
       "      <td>2020-09-18T17:06:39.403Z</td>\n",
       "      <td>C:\\windows\\system32\\wermgr.exe -upload</td>\n",
       "      <td></td>\n",
       "      <td>{d273d0f0-e91f-5f64-2e01-000000000800}</td>\n",
       "      <td>{d273d0f0-e867-5f64-1900-000000000800}</td>\n",
       "    </tr>\n",
       "    <tr>\n",
       "      <td>2020-09-18T17:06:27.058Z</td>\n",
       "      <td>C:\\windows\\System32\\mobsync.exe -Embedding</td>\n",
       "      <td></td>\n",
       "      <td>{d273d0f0-e913-5f64-2401-000000000800}</td>\n",
       "      <td>{d273d0f0-e866-5f64-1100-000000000800}</td>\n",
       "    </tr>\n",
       "    <tr>\n",
       "      <td>2020-09-18T17:06:07.797Z</td>\n",
       "      <td>C:\\windows\\system32\\dxgiadaptercache.exe</td>\n",
       "      <td></td>\n",
       "      <td>{d273d0f0-e8ff-5f64-0a01-000000000800}</td>\n",
       "      <td>{d273d0f0-e867-5f64-1900-000000000800}</td>\n",
       "    </tr>\n",
       "    <tr>\n",
       "      <td>2020-09-18T17:07:12.477Z</td>\n",
       "      <td>C:\\windows\\System32\\dsregcmd.exe \\$(Arg0) \\$(Arg1) \\$(Arg2)</td>\n",
       "      <td>1192.0</td>\n",
       "      <td>{d273d0f0-e940-5f64-3d01-000000000800}</td>\n",
       "      <td>{d273d0f0-e867-5f64-1900-000000000800}</td>\n",
       "    </tr>\n",
       "    <tr>\n",
       "      <td>2020-09-18T17:07:48.704Z</td>\n",
       "      <td>\"C:\\windows\\system32\\backgroundTaskHost.exe\" -ServerName:CortanaUI.AppXy7vb4pc2dr3kc93kfc509b1d0arkfb2x.mca</td>\n",
       "      <td></td>\n",
       "      <td>{d273d0f0-e964-5f64-4301-000000000800}</td>\n",
       "      <td>{d273d0f0-e866-5f64-1100-000000000800}</td>\n",
       "    </tr>\n",
       "    <tr>\n",
       "      <td>2020-09-18T17:06:11.939Z</td>\n",
       "      <td>taskhostw.exe {222A245B-E637-4AE9-A93F-A59CA119A75E}</td>\n",
       "      <td></td>\n",
       "      <td>{d273d0f0-e903-5f64-1301-000000000800}</td>\n",
       "      <td>{d273d0f0-e867-5f64-1900-000000000800}</td>\n",
       "    </tr>\n",
       "    <tr>\n",
       "      <td>2020-09-18T17:06:11.893Z</td>\n",
       "      <td>\"C:\\Program Files (x86)\\Microsoft Office\\root\\Office16\\msoia.exe\" scan upload</td>\n",
       "      <td></td>\n",
       "      <td>{d273d0f0-e903-5f64-1201-000000000800}</td>\n",
       "      <td>{d273d0f0-e867-5f64-1900-000000000800}</td>\n",
       "    </tr>\n",
       "    <tr>\n",
       "      <td>2020-09-18T17:07:49.017Z</td>\n",
       "      <td>C:\\Windows\\System32\\RuntimeBroker.exe -Embedding</td>\n",
       "      <td></td>\n",
       "      <td>{d273d0f0-e965-5f64-4401-000000000800}</td>\n",
       "      <td>{d273d0f0-e866-5f64-1100-000000000800}</td>\n",
       "    </tr>\n",
       "    <tr>\n",
       "      <td>2020-09-18T17:07:01.266Z</td>\n",
       "      <td>C:\\windows\\system32\\wermgr.exe -upload</td>\n",
       "      <td></td>\n",
       "      <td>{d273d0f0-e935-5f64-3c01-000000000800}</td>\n",
       "      <td>{d273d0f0-e867-5f64-1900-000000000800}</td>\n",
       "    </tr>\n",
       "    <tr>\n",
       "      <td>2020-09-18T17:07:47.676Z</td>\n",
       "      <td>\"C:\\windows\\system32\\backgroundTaskHost.exe\" -ServerName:App.AppXmtcan0h2tfbfy7k9kn8hbxb6dmzz1zh0.mca</td>\n",
       "      <td></td>\n",
       "      <td>{d273d0f0-e963-5f64-4101-000000000800}</td>\n",
       "      <td>{d273d0f0-e866-5f64-1100-000000000800}</td>\n",
       "    </tr>\n",
       "    <tr>\n",
       "      <td>2020-09-18T17:06:11.329Z</td>\n",
       "      <td>rdpclip</td>\n",
       "      <td></td>\n",
       "      <td>{d273d0f0-e903-5f64-0e01-000000000800}</td>\n",
       "      <td>{d273d0f0-e867-5f64-1700-000000000800}</td>\n",
       "    </tr>\n",
       "    <tr>\n",
       "      <td>2020-09-18T17:06:11.461Z</td>\n",
       "      <td>sihost.exe</td>\n",
       "      <td></td>\n",
       "      <td>{d273d0f0-e903-5f64-0f01-000000000800}</td>\n",
       "      <td>{d273d0f0-e867-5f64-1b00-000000000800}</td>\n",
       "    </tr>\n",
       "    <tr>\n",
       "      <td>2020-09-18T17:08:24.231Z</td>\n",
       "      <td>C:\\Windows\\System32\\RuntimeBroker.exe -Embedding</td>\n",
       "      <td></td>\n",
       "      <td>{d273d0f0-e988-5f64-4a01-000000000800}</td>\n",
       "      <td>{d273d0f0-e866-5f64-1100-000000000800}</td>\n",
       "    </tr>\n",
       "    <tr>\n",
       "      <td>2020-09-18T17:06:19.717Z</td>\n",
       "      <td>C:\\Windows\\System32\\RuntimeBroker.exe -Embedding</td>\n",
       "      <td></td>\n",
       "      <td>{d273d0f0-e90b-5f64-1f01-000000000800}</td>\n",
       "      <td>{d273d0f0-e866-5f64-1100-000000000800}</td>\n",
       "    </tr>\n",
       "    <tr>\n",
       "      <td>2020-09-18T17:07:49.117Z</td>\n",
       "      <td>\"C:\\Program Files\\WindowsApps\\microsoft.windowscommunicationsapps_16005.11029.20108.0_x64__8wekyb3d8bbwe\\HxTsr.exe\" -ServerName:Hx.IPC.Server</td>\n",
       "      <td></td>\n",
       "      <td>{d273d0f0-e965-5f64-4501-000000000800}</td>\n",
       "      <td>{d273d0f0-e866-5f64-1100-000000000800}</td>\n",
       "    </tr>\n",
       "    <tr>\n",
       "      <td>2020-09-18T17:06:17.655Z</td>\n",
       "      <td>\"C:\\Windows\\SystemApps\\Microsoft.Windows.StartMenuExperienceHost_cw5n1h2txyewy\\StartMenuExperienceHost.exe\" -ServerName:App.AppXywbrabmsek0gm3tkwpr5kwzbs55tkqay.mca</td>\n",
       "      <td></td>\n",
       "      <td>{d273d0f0-e909-5f64-1d01-000000000800}</td>\n",
       "      <td>{d273d0f0-e866-5f64-1100-000000000800}</td>\n",
       "    </tr>\n",
       "    <tr>\n",
       "      <td>2020-09-18T17:06:15.694Z</td>\n",
       "      <td>C:\\windows\\system32\\DllHost.exe /Processid:{AB8902B4-09CA-4BB6-B78D-A8F59079A8D5}</td>\n",
       "      <td></td>\n",
       "      <td>{d273d0f0-e907-5f64-1c01-000000000800}</td>\n",
       "      <td>{d273d0f0-e866-5f64-1100-000000000800}</td>\n",
       "    </tr>\n",
       "    <tr>\n",
       "      <td>2020-09-18T17:06:28.540Z</td>\n",
       "      <td>\"C:\\windows\\system32\\backgroundTaskHost.exe\" -ServerName:CortanaUI.AppXy7vb4pc2dr3kc93kfc509b1d0arkfb2x.mca</td>\n",
       "      <td></td>\n",
       "      <td>{d273d0f0-e914-5f64-2501-000000000800}</td>\n",
       "      <td>{d273d0f0-e866-5f64-1100-000000000800}</td>\n",
       "    </tr>\n",
       "    <tr>\n",
       "      <td>2020-09-18T17:06:33.032Z</td>\n",
       "      <td>C:\\Windows\\System32\\smartscreen.exe -Embedding</td>\n",
       "      <td></td>\n",
       "      <td>{d273d0f0-e919-5f64-2601-000000000800}</td>\n",
       "      <td>{d273d0f0-e866-5f64-1100-000000000800}</td>\n",
       "    </tr>\n",
       "    <tr>\n",
       "      <td>2020-09-18T17:06:18.608Z</td>\n",
       "      <td>\"C:\\Program Files\\WindowsApps\\Microsoft.XboxGamingOverlay_2.26.14003.0_x64__8wekyb3d8bbwe\\GameBar.exe\" -ServerName:App.AppXbdkk0yrkwpcgeaem8zk81k8py1eaahny.mca</td>\n",
       "      <td></td>\n",
       "      <td>{d273d0f0-e90a-5f64-1e01-000000000800}</td>\n",
       "      <td>{d273d0f0-e866-5f64-1100-000000000800}</td>\n",
       "    </tr>\n",
       "    <tr>\n",
       "      <td>2020-09-18T17:09:24.784Z</td>\n",
       "      <td>\"C:\\Program Files\\Common Files\\Microsoft Shared\\ClickToRun\\OfficeC2RClient.exe\" /frequentupdate SCHEDULEDTASK displaylevel=False</td>\n",
       "      <td></td>\n",
       "      <td>{d273d0f0-e9c4-5f64-4f01-000000000800}</td>\n",
       "      <td>{d273d0f0-e867-5f64-1900-000000000800}</td>\n",
       "    </tr>\n",
       "    <tr>\n",
       "      <td>2020-09-18T17:07:48.036Z</td>\n",
       "      <td>wmiadap.exe /F /T</td>\n",
       "      <td></td>\n",
       "      <td>{d273d0f0-e964-5f64-4201-000000000800}</td>\n",
       "      <td>{d273d0f0-e873-5f64-4100-000000000800}</td>\n",
       "    </tr>\n",
       "    <tr>\n",
       "      <td>2020-09-18T17:06:21.653Z</td>\n",
       "      <td>C:\\Windows\\System32\\RuntimeBroker.exe -Embedding</td>\n",
       "      <td></td>\n",
       "      <td>{d273d0f0-e90d-5f64-2101-000000000800}</td>\n",
       "      <td>{d273d0f0-e866-5f64-1100-000000000800}</td>\n",
       "    </tr>\n",
       "    <tr>\n",
       "      <td>2020-09-18T17:06:38.883Z</td>\n",
       "      <td>C:\\windows\\system32\\sc.exe start pushtoinstall registration</td>\n",
       "      <td>7292.0</td>\n",
       "      <td>{d273d0f0-e91e-5f64-2c01-000000000800}</td>\n",
       "      <td>{d273d0f0-e867-5f64-1900-000000000800}</td>\n",
       "    </tr>\n",
       "    <tr>\n",
       "      <td>2020-09-18T17:06:50.509Z</td>\n",
       "      <td>C:\\Windows\\System32\\RuntimeBroker.exe -Embedding</td>\n",
       "      <td></td>\n",
       "      <td>{d273d0f0-e92a-5f64-3901-000000000800}</td>\n",
       "      <td>{d273d0f0-e866-5f64-1100-000000000800}</td>\n",
       "    </tr>\n",
       "    <tr>\n",
       "      <td>2020-09-18T17:07:17.008Z</td>\n",
       "      <td>taskhostw.exe \\$(Arg0)</td>\n",
       "      <td></td>\n",
       "      <td>{d273d0f0-e945-5f64-3f01-000000000800}</td>\n",
       "      <td>{d273d0f0-e867-5f64-1900-000000000800}</td>\n",
       "    </tr>\n",
       "    <tr>\n",
       "      <td>2020-09-18T17:06:11.103Z</td>\n",
       "      <td>C:\\windows\\system32\\DllHost.exe /Processid:{338B40F9-9D68-4B53-A793-6B9AA0C5F63B}</td>\n",
       "      <td></td>\n",
       "      <td>{d273d0f0-e903-5f64-0d01-000000000800}</td>\n",
       "      <td>{d273d0f0-e866-5f64-1100-000000000800}</td>\n",
       "    </tr>\n",
       "    <tr>\n",
       "      <td>2020-09-18T17:06:20.638Z</td>\n",
       "      <td>\"C:\\Windows\\SystemApps\\Microsoft.Windows.Cortana_cw5n1h2txyewy\\SearchUI.exe\" -ServerName:CortanaUI.AppXa50dqqa5gqv4a428c9y1jjw7m3btvepj.mca</td>\n",
       "      <td></td>\n",
       "      <td>{d273d0f0-e90c-5f64-2001-000000000800}</td>\n",
       "      <td>{d273d0f0-e866-5f64-1100-000000000800}</td>\n",
       "    </tr>\n",
       "    <tr>\n",
       "      <td>2020-09-18T17:06:12.044Z</td>\n",
       "      <td>taskhostw.exe</td>\n",
       "      <td></td>\n",
       "      <td>{d273d0f0-e904-5f64-1501-000000000800}</td>\n",
       "      <td>{d273d0f0-e867-5f64-1900-000000000800}</td>\n",
       "    </tr>\n",
       "    <tr>\n",
       "      <td>2020-09-18T17:08:22.735Z</td>\n",
       "      <td>C:\\Windows\\System32\\SecurityHealthHost.exe {08728914-3F57-4D52-9E31-49DAECA5A80A} -Embedding</td>\n",
       "      <td></td>\n",
       "      <td>{d273d0f0-e986-5f64-4801-000000000800}</td>\n",
       "      <td>{d273d0f0-e866-5f64-1100-000000000800}</td>\n",
       "    </tr>\n",
       "    <tr>\n",
       "      <td>2020-09-18T17:07:50.139Z</td>\n",
       "      <td>C:\\Windows\\System32\\RuntimeBroker.exe -Embedding</td>\n",
       "      <td></td>\n",
       "      <td>{d273d0f0-e966-5f64-4601-000000000800}</td>\n",
       "      <td>{d273d0f0-e866-5f64-1100-000000000800}</td>\n",
       "    </tr>\n",
       "    <tr>\n",
       "      <td>2020-09-18T17:06:13.124Z</td>\n",
       "      <td>\"ctfmon.exe\"</td>\n",
       "      <td></td>\n",
       "      <td>{d273d0f0-e905-5f64-1801-000000000800}</td>\n",
       "      <td>{d273d0f0-e899-5f64-9e00-000000000800}</td>\n",
       "    </tr>\n",
       "    <tr>\n",
       "      <td>2020-09-18T17:06:11.985Z</td>\n",
       "      <td>taskhostw.exe</td>\n",
       "      <td></td>\n",
       "      <td>{d273d0f0-e903-5f64-1401-000000000800}</td>\n",
       "      <td>{d273d0f0-e867-5f64-1900-000000000800}</td>\n",
       "    </tr>\n",
       "  </tbody>\n",
       "</table>"
      ]
     },
     "metadata": {},
     "output_type": "display_data"
    }
   ],
   "source": [
    "DISP spawned ATTR created, command_line, pid, x_unique_id, parent_ref.x_unique_id"
   ]
  },
  {
   "cell_type": "markdown",
   "id": "bf4874d4",
   "metadata": {},
   "source": [
    "**For further, let's look at the parent process as well:**"
   ]
  },
  {
   "cell_type": "code",
   "execution_count": 15,
   "id": "213b22cf",
   "metadata": {
    "scrolled": true
   },
   "outputs": [
    {
     "name": "stderr",
     "output_type": "stream",
     "text": []
    },
    {
     "data": {
      "text/html": [
       "<div><h4>Block Executed in 12 seconds</h4><table border=\"1\" class=\"dataframe\">\n",
       "  <thead>\n",
       "    <tr style=\"text-align: right;\">\n",
       "      <th>VARIABLE</th>\n",
       "      <th>TYPE</th>\n",
       "      <th>#(ENTITIES)</th>\n",
       "      <th>#(RECORDS)</th>\n",
       "      <th>artifact*</th>\n",
       "      <th>directory*</th>\n",
       "      <th>file*</th>\n",
       "      <th>ipv4-addr*</th>\n",
       "      <th>network-traffic*</th>\n",
       "      <th>process*</th>\n",
       "      <th>user-account*</th>\n",
       "      <th>windows-registry-key*</th>\n",
       "      <th>x-oca-asset*</th>\n",
       "      <th>x-oca-event*</th>\n",
       "    </tr>\n",
       "  </thead>\n",
       "  <tbody>\n",
       "    <tr>\n",
       "      <td>parents</td>\n",
       "      <td>process</td>\n",
       "      <td>1</td>\n",
       "      <td>741</td>\n",
       "      <td>12</td>\n",
       "      <td>30196</td>\n",
       "      <td>36750</td>\n",
       "      <td>270</td>\n",
       "      <td>135</td>\n",
       "      <td>26439</td>\n",
       "      <td>366</td>\n",
       "      <td>14560</td>\n",
       "      <td>26080</td>\n",
       "      <td>26080</td>\n",
       "    </tr>\n",
       "  </tbody>\n",
       "</table><p>*Number of related records cached.</p></div>"
      ]
     },
     "metadata": {},
     "output_type": "display_data"
    }
   ],
   "source": [
    "parents = FIND process CREATED svchost_procs"
   ]
  },
  {
   "cell_type": "code",
   "execution_count": 16,
   "id": "ec6af963",
   "metadata": {},
   "outputs": [
    {
     "name": "stderr",
     "output_type": "stream",
     "text": []
    },
    {
     "data": {
      "text/html": [
       "<table border=\"1\" class=\"dataframe\">\n",
       "  <thead>\n",
       "    <tr style=\"text-align: right;\">\n",
       "      <th>binary_ref.name</th>\n",
       "      <th>command_line</th>\n",
       "      <th>parent_ref.pid</th>\n",
       "      <th>pid</th>\n",
       "    </tr>\n",
       "  </thead>\n",
       "  <tbody>\n",
       "    <tr>\n",
       "      <td>services.exe</td>\n",
       "      <td>C:\\windows\\system32\\services.exe</td>\n",
       "      <td>None</td>\n",
       "      <td>704</td>\n",
       "    </tr>\n",
       "  </tbody>\n",
       "</table>"
      ]
     },
     "metadata": {},
     "output_type": "display_data"
    }
   ],
   "source": [
    "DISP parents ATTR binary_ref.name, command_line, parent_ref.pid, pid"
   ]
  },
  {
   "cell_type": "markdown",
   "id": "e4ff3c13",
   "metadata": {},
   "source": [
    "**Services.exe is also kind of a popular tool for attackers and often causes problems.**"
   ]
  },
  {
   "cell_type": "markdown",
   "id": "29a347fd",
   "metadata": {},
   "source": [
    "**For reference, find out the user so that can be helpful for the incident report.**"
   ]
  },
  {
   "cell_type": "code",
   "execution_count": 17,
   "id": "c3e65f14",
   "metadata": {},
   "outputs": [
    {
     "name": "stderr",
     "output_type": "stream",
     "text": []
    },
    {
     "data": {
      "text/html": [
       "<div><h4>Block Executed in 13 seconds</h4><table border=\"1\" class=\"dataframe\">\n",
       "  <thead>\n",
       "    <tr style=\"text-align: right;\">\n",
       "      <th>VARIABLE</th>\n",
       "      <th>TYPE</th>\n",
       "      <th>#(ENTITIES)</th>\n",
       "      <th>#(RECORDS)</th>\n",
       "      <th>artifact*</th>\n",
       "      <th>directory*</th>\n",
       "      <th>file*</th>\n",
       "      <th>ipv4-addr*</th>\n",
       "      <th>network-traffic*</th>\n",
       "      <th>process*</th>\n",
       "      <th>user-account*</th>\n",
       "      <th>windows-registry-key*</th>\n",
       "      <th>x-oca-asset*</th>\n",
       "      <th>x-oca-event*</th>\n",
       "    </tr>\n",
       "  </thead>\n",
       "  <tbody>\n",
       "    <tr>\n",
       "      <td>users</td>\n",
       "      <td>user-account</td>\n",
       "      <td>6</td>\n",
       "      <td>466</td>\n",
       "      <td>12</td>\n",
       "      <td>36363</td>\n",
       "      <td>44479</td>\n",
       "      <td>294</td>\n",
       "      <td>147</td>\n",
       "      <td>31866</td>\n",
       "      <td>478</td>\n",
       "      <td>17258</td>\n",
       "      <td>31388</td>\n",
       "      <td>31388</td>\n",
       "    </tr>\n",
       "  </tbody>\n",
       "</table><p>*Number of related records cached.</p></div>"
      ]
     },
     "metadata": {},
     "output_type": "display_data"
    }
   ],
   "source": [
    "users = FIND user-account OWNED procs"
   ]
  },
  {
   "cell_type": "code",
   "execution_count": 18,
   "id": "bb82d85f",
   "metadata": {},
   "outputs": [
    {
     "name": "stderr",
     "output_type": "stream",
     "text": []
    },
    {
     "data": {
      "text/html": [
       "<table border=\"1\" class=\"dataframe\">\n",
       "  <thead>\n",
       "    <tr style=\"text-align: right;\">\n",
       "      <th>user_id</th>\n",
       "      <th>id</th>\n",
       "    </tr>\n",
       "  </thead>\n",
       "  <tbody>\n",
       "    <tr>\n",
       "      <td>Font Driver Host\\UMFD-3</td>\n",
       "      <td>user-account--038f29e8-228f-5d17-8250-7941e3bc9faf</td>\n",
       "    </tr>\n",
       "    <tr>\n",
       "      <td>THESHIRE\\sbeavers</td>\n",
       "      <td>user-account--174c2d5e-a941-5fb7-a9c6-225918229247</td>\n",
       "    </tr>\n",
       "    <tr>\n",
       "      <td>NT AUTHORITY\\LOCAL SERVICE</td>\n",
       "      <td>user-account--3bf1eb02-3fc6-57fe-b7cf-2f082695d14c</td>\n",
       "    </tr>\n",
       "    <tr>\n",
       "      <td>Window Manager\\DWM-3</td>\n",
       "      <td>user-account--57d5a6a9-3fc1-51a5-a54e-c6e0efe111e7</td>\n",
       "    </tr>\n",
       "    <tr>\n",
       "      <td>NT AUTHORITY\\SYSTEM</td>\n",
       "      <td>user-account--8fefa3ad-08f5-5438-846a-82e6009baab7</td>\n",
       "    </tr>\n",
       "    <tr>\n",
       "      <td>NT AUTHORITY\\NETWORK SERVICE</td>\n",
       "      <td>user-account--c3cfc1d7-73fc-52fb-888a-3b9dee0eed92</td>\n",
       "    </tr>\n",
       "  </tbody>\n",
       "</table>"
      ]
     },
     "metadata": {},
     "output_type": "display_data"
    }
   ],
   "source": [
    "DISP users"
   ]
  },
  {
   "cell_type": "markdown",
   "id": "7eee7cd3",
   "metadata": {},
   "source": [
    "**We can also retrieve the machine names where this took place:**"
   ]
  },
  {
   "cell_type": "code",
   "execution_count": 19,
   "id": "248f3bf2",
   "metadata": {},
   "outputs": [
    {
     "name": "stderr",
     "output_type": "stream",
     "text": []
    },
    {
     "data": {
      "text/html": [
       "<div><h4>Block Executed in 3 seconds</h4><table border=\"1\" class=\"dataframe\">\n",
       "  <thead>\n",
       "    <tr style=\"text-align: right;\">\n",
       "      <th>VARIABLE</th>\n",
       "      <th>TYPE</th>\n",
       "      <th>#(ENTITIES)</th>\n",
       "      <th>#(RECORDS)</th>\n",
       "      <th>artifact*</th>\n",
       "      <th>directory*</th>\n",
       "      <th>file*</th>\n",
       "      <th>ipv4-addr*</th>\n",
       "      <th>network-traffic*</th>\n",
       "      <th>process*</th>\n",
       "      <th>user-account*</th>\n",
       "      <th>windows-registry-key*</th>\n",
       "      <th>x-oca-asset*</th>\n",
       "      <th>x-oca-event*</th>\n",
       "    </tr>\n",
       "  </thead>\n",
       "  <tbody>\n",
       "    <tr>\n",
       "      <td>hosts</td>\n",
       "      <td>x-oca-asset</td>\n",
       "      <td>1</td>\n",
       "      <td>31388</td>\n",
       "      <td>12</td>\n",
       "      <td>36363</td>\n",
       "      <td>44479</td>\n",
       "      <td>294</td>\n",
       "      <td>147</td>\n",
       "      <td>31866</td>\n",
       "      <td>484</td>\n",
       "      <td>17258</td>\n",
       "      <td>31387</td>\n",
       "      <td>31388</td>\n",
       "    </tr>\n",
       "  </tbody>\n",
       "</table><p>*Number of related records cached.</p></div>"
      ]
     },
     "metadata": {},
     "output_type": "display_data"
    }
   ],
   "source": [
    "hosts = FIND x-oca-asset LINKED procs"
   ]
  },
  {
   "cell_type": "markdown",
   "id": "6ef5195e",
   "metadata": {},
   "source": [
    "**At this point, we have the basic evidence for creating an incident report.**"
   ]
  },
  {
   "cell_type": "code",
   "execution_count": 20,
   "id": "272d5e9f",
   "metadata": {},
   "outputs": [
    {
     "name": "stderr",
     "output_type": "stream",
     "text": []
    },
    {
     "data": {
      "text/html": [
       "<table border=\"1\" class=\"dataframe\">\n",
       "  <thead>\n",
       "    <tr style=\"text-align: right;\">\n",
       "      <th>hostname</th>\n",
       "      <th>id</th>\n",
       "    </tr>\n",
       "  </thead>\n",
       "  <tbody>\n",
       "    <tr>\n",
       "      <td>WORKSTATION6.theshire.local</td>\n",
       "      <td>x-oca-asset--bfffcc7a-09a4-5bfd-b108-105dea7b3dcc</td>\n",
       "    </tr>\n",
       "  </tbody>\n",
       "</table>"
      ]
     },
     "metadata": {},
     "output_type": "display_data"
    }
   ],
   "source": [
    "DISP hosts"
   ]
  }
 ],
 "metadata": {
  "kernelspec": {
   "display_name": "Kestrel",
   "language": "kestrel",
   "name": "kestrel"
  },
  "language_info": {
   "file_extension": ".hf",
   "name": "kestrel"
  }
 },
 "nbformat": 4,
 "nbformat_minor": 5
}
