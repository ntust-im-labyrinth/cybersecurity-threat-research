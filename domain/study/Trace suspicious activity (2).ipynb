{
 "cells": [
  {
   "cell_type": "markdown",
   "id": "e82d48bf",
   "metadata": {},
   "source": [
    "# Retrieve WMIC process"
   ]
  },
  {
   "cell_type": "code",
   "execution_count": 15,
   "id": "b3cb6945",
   "metadata": {},
   "outputs": [
    {
     "name": "stderr",
     "output_type": "stream",
     "text": []
    },
    {
     "data": {
      "text/html": [
       "<div><h4>Block Executed in 1 seconds</h4><table border=\"1\" class=\"dataframe\">\n",
       "  <thead>\n",
       "    <tr style=\"text-align: right;\">\n",
       "      <th>VARIABLE</th>\n",
       "      <th>TYPE</th>\n",
       "      <th>#(ENTITIES)</th>\n",
       "      <th>#(RECORDS)</th>\n",
       "      <th>artifact*</th>\n",
       "      <th>directory*</th>\n",
       "      <th>file*</th>\n",
       "      <th>ipv4-addr*</th>\n",
       "      <th>network-traffic*</th>\n",
       "      <th>process*</th>\n",
       "      <th>user-account*</th>\n",
       "      <th>windows-registry-key*</th>\n",
       "      <th>x-oca-asset*</th>\n",
       "      <th>x-oca-event*</th>\n",
       "    </tr>\n",
       "  </thead>\n",
       "  <tbody>\n",
       "    <tr>\n",
       "      <td>wmic_proc</td>\n",
       "      <td>process</td>\n",
       "      <td>1</td>\n",
       "      <td>153</td>\n",
       "      <td>154</td>\n",
       "      <td>270</td>\n",
       "      <td>278</td>\n",
       "      <td>4</td>\n",
       "      <td>2</td>\n",
       "      <td>157</td>\n",
       "      <td>4</td>\n",
       "      <td>18</td>\n",
       "      <td>154</td>\n",
       "      <td>154</td>\n",
       "    </tr>\n",
       "  </tbody>\n",
       "</table><p>*Number of related records cached.</p></div>"
      ]
     },
     "metadata": {},
     "output_type": "display_data"
    }
   ],
   "source": [
    "wmic_proc = GET process \n",
    "            FROM https://raw.githubusercontent.com/OTRF/Security-Datasets/master/datasets/atomic/windows/lateral_movement/host/empire_wmic_add_user_backdoor.zip\n",
    "            WHERE [process:command_line LIKE '%WMIC%']"
   ]
  },
  {
   "cell_type": "markdown",
   "id": "24954af7",
   "metadata": {},
   "source": [
    "Retrieve any information which relate to process from dataset which stored in github.\n",
    "The data that will we collect is specific to app name WMIC (filter: show only WMIC).\n",
    "WMIC is typically refers to the Windows Management Instrumentation Command-line (WMIC), which is a command-line tool used to interact with the Windows Management Instrumentation (WMI) infrastructure in Windows operating systems."
   ]
  },
  {
   "cell_type": "markdown",
   "id": "66f8d9ab",
   "metadata": {},
   "source": [
    "# Show WMIC process and get the command line"
   ]
  },
  {
   "cell_type": "code",
   "execution_count": 16,
   "id": "892799ec",
   "metadata": {},
   "outputs": [
    {
     "name": "stderr",
     "output_type": "stream",
     "text": []
    },
    {
     "data": {
      "text/html": [
       "<table border=\"1\" class=\"dataframe\">\n",
       "  <thead>\n",
       "    <tr style=\"text-align: right;\">\n",
       "      <th>created</th>\n",
       "      <th>command_line</th>\n",
       "      <th>pid</th>\n",
       "      <th>\"x_unique\"</th>\n",
       "    </tr>\n",
       "  </thead>\n",
       "  <tbody>\n",
       "    <tr>\n",
       "      <td>2020-09-14T12:06:01.826Z</td>\n",
       "      <td>\"C:\\windows\\System32\\Wbem\\WMIC.exe\" /node:WORKSTATION6 process call create \"net user /add backdoor paw0rd1\"</td>\n",
       "      <td>9428</td>\n",
       "      <td>x_unique</td>\n",
       "    </tr>\n",
       "  </tbody>\n",
       "</table>"
      ]
     },
     "metadata": {},
     "output_type": "display_data"
    }
   ],
   "source": [
    "DISP wmic_proc ATTR created, command_line, pid, x_unique"
   ]
  },
  {
   "cell_type": "markdown",
   "id": "b8e8334c",
   "metadata": {},
   "source": [
    "Show specific attribute called command_line, pid, x_unique_id \n",
    "command_line column store information of a command line to start the process. From the result, we know that someone run this suspicious command \"net user /add backdoor paword1\" in remote machine named WORKSTATION6"
   ]
  },
  {
   "cell_type": "markdown",
   "id": "82a4fb2a",
   "metadata": {},
   "source": [
    "# Retrieve WMIPRVSE process"
   ]
  },
  {
   "cell_type": "code",
   "execution_count": 17,
   "id": "3d001969",
   "metadata": {},
   "outputs": [
    {
     "name": "stderr",
     "output_type": "stream",
     "text": []
    },
    {
     "data": {
      "text/html": [
       "<div><h4>Block Executed in 13 seconds</h4><table border=\"1\" class=\"dataframe\">\n",
       "  <thead>\n",
       "    <tr style=\"text-align: right;\">\n",
       "      <th>VARIABLE</th>\n",
       "      <th>TYPE</th>\n",
       "      <th>#(ENTITIES)</th>\n",
       "      <th>#(RECORDS)</th>\n",
       "      <th>artifact*</th>\n",
       "      <th>directory*</th>\n",
       "      <th>file*</th>\n",
       "      <th>ipv4-addr*</th>\n",
       "      <th>network-traffic*</th>\n",
       "      <th>process*</th>\n",
       "      <th>user-account*</th>\n",
       "      <th>windows-registry-key*</th>\n",
       "      <th>x-oca-asset*</th>\n",
       "      <th>x-oca-event*</th>\n",
       "    </tr>\n",
       "  </thead>\n",
       "  <tbody>\n",
       "    <tr>\n",
       "      <td>wmiprvse_procs</td>\n",
       "      <td>process</td>\n",
       "      <td>2</td>\n",
       "      <td>130</td>\n",
       "      <td>132</td>\n",
       "      <td>228</td>\n",
       "      <td>241</td>\n",
       "      <td>0</td>\n",
       "      <td>0</td>\n",
       "      <td>138</td>\n",
       "      <td>8</td>\n",
       "      <td>15</td>\n",
       "      <td>132</td>\n",
       "      <td>132</td>\n",
       "    </tr>\n",
       "  </tbody>\n",
       "</table><p>*Number of related records cached.</p></div>"
      ]
     },
     "metadata": {},
     "output_type": "display_data"
    }
   ],
   "source": [
    "wmiprvse_procs = GET process  \n",
    "                WHERE [process:command_line LIKE '%wmiprvse%']"
   ]
  },
  {
   "cell_type": "markdown",
   "id": "54a5b0bd",
   "metadata": {},
   "source": [
    "Retrieve process which has \"wmiprvse\" process\n",
    "wmiprvse refers to \"Windows Management Instrumentation Provider Service\""
   ]
  },
  {
   "cell_type": "markdown",
   "id": "2afc9f4f",
   "metadata": {},
   "source": [
    "# Show WMIPRVSE process and get the command line"
   ]
  },
  {
   "cell_type": "code",
   "execution_count": 18,
   "id": "89273947",
   "metadata": {},
   "outputs": [
    {
     "name": "stderr",
     "output_type": "stream",
     "text": []
    },
    {
     "data": {
      "text/html": [
       "<table border=\"1\" class=\"dataframe\">\n",
       "  <thead>\n",
       "    <tr style=\"text-align: right;\">\n",
       "      <th>created</th>\n",
       "      <th>command_line</th>\n",
       "      <th>pid</th>\n",
       "      <th>\"x_unique\"</th>\n",
       "    </tr>\n",
       "  </thead>\n",
       "  <tbody>\n",
       "    <tr>\n",
       "      <td>2020-09-14T12:06:02.209Z</td>\n",
       "      <td>C:\\windows\\system32\\wbem\\wmiprvse.exe -secured -Embedding</td>\n",
       "      <td>3952</td>\n",
       "      <td>x_unique</td>\n",
       "    </tr>\n",
       "    <tr>\n",
       "      <td>2020-09-14T12:06:08.432Z</td>\n",
       "      <td>C:\\windows\\system32\\wbem\\wmiprvse.exe -secured -Embedding</td>\n",
       "      <td>7296</td>\n",
       "      <td>x_unique</td>\n",
       "    </tr>\n",
       "  </tbody>\n",
       "</table>"
      ]
     },
     "metadata": {},
     "output_type": "display_data"
    }
   ],
   "source": [
    "DISP wmiprvse_procs ATTR created, command_line, pid, x_unique"
   ]
  },
  {
   "cell_type": "markdown",
   "id": "781d1854",
   "metadata": {},
   "source": [
    "# Get process which created by WMIPRVSE process"
   ]
  },
  {
   "cell_type": "code",
   "execution_count": 19,
   "id": "75e0f0bd",
   "metadata": {},
   "outputs": [
    {
     "name": "stderr",
     "output_type": "stream",
     "text": []
    },
    {
     "data": {
      "text/html": [
       "<div><h4>Block Executed in 7 seconds</h4><table border=\"1\" class=\"dataframe\">\n",
       "  <thead>\n",
       "    <tr style=\"text-align: right;\">\n",
       "      <th>VARIABLE</th>\n",
       "      <th>TYPE</th>\n",
       "      <th>#(ENTITIES)</th>\n",
       "      <th>#(RECORDS)</th>\n",
       "      <th>artifact*</th>\n",
       "      <th>directory*</th>\n",
       "      <th>file*</th>\n",
       "      <th>ipv4-addr*</th>\n",
       "      <th>network-traffic*</th>\n",
       "      <th>process*</th>\n",
       "      <th>user-account*</th>\n",
       "      <th>windows-registry-key*</th>\n",
       "      <th>x-oca-asset*</th>\n",
       "      <th>x-oca-event*</th>\n",
       "    </tr>\n",
       "  </thead>\n",
       "  <tbody>\n",
       "    <tr>\n",
       "      <td>spawned</td>\n",
       "      <td>process</td>\n",
       "      <td>1</td>\n",
       "      <td>23</td>\n",
       "      <td>153</td>\n",
       "      <td>250</td>\n",
       "      <td>282</td>\n",
       "      <td>0</td>\n",
       "      <td>0</td>\n",
       "      <td>163</td>\n",
       "      <td>11</td>\n",
       "      <td>15</td>\n",
       "      <td>153</td>\n",
       "      <td>153</td>\n",
       "    </tr>\n",
       "  </tbody>\n",
       "</table><p>*Number of related records cached.</p></div>"
      ]
     },
     "metadata": {},
     "output_type": "display_data"
    }
   ],
   "source": [
    "spawned = FIND process CREATED BY wmiprvse_procs"
   ]
  },
  {
   "cell_type": "markdown",
   "id": "67c45661",
   "metadata": {},
   "source": [
    "# Find the parent id who run the suspicous command"
   ]
  },
  {
   "cell_type": "code",
   "execution_count": 20,
   "id": "8d886a82",
   "metadata": {},
   "outputs": [
    {
     "name": "stderr",
     "output_type": "stream",
     "text": []
    },
    {
     "data": {
      "text/html": [
       "<table border=\"1\" class=\"dataframe\">\n",
       "  <thead>\n",
       "    <tr style=\"text-align: right;\">\n",
       "      <th>created</th>\n",
       "      <th>command_line</th>\n",
       "      <th>pid</th>\n",
       "      <th>x_unique_id</th>\n",
       "      <th>parent_ref.x_unique_id</th>\n",
       "    </tr>\n",
       "  </thead>\n",
       "  <tbody>\n",
       "    <tr>\n",
       "      <td>2020-09-14T12:06:02.316Z</td>\n",
       "      <td>net user /add backdoor paw0rd1</td>\n",
       "      <td>7768</td>\n",
       "      <td>{83d0c8c3-5caa-5f5f-f102-000000000400}</td>\n",
       "      <td>{83d0c8c3-5caa-5f5f-f002-000000000400}</td>\n",
       "    </tr>\n",
       "  </tbody>\n",
       "</table>"
      ]
     },
     "metadata": {},
     "output_type": "display_data"
    }
   ],
   "source": [
    "DISP spawned ATTR created, command_line, pid, x_unique_id, parent_ref.x_unique_id"
   ]
  },
  {
   "cell_type": "code",
   "execution_count": 21,
   "id": "53526949",
   "metadata": {},
   "outputs": [
    {
     "name": "stderr",
     "output_type": "stream",
     "text": []
    },
    {
     "data": {
      "text/html": [
       "<div><h4>Block Executed in 7 seconds</h4><table border=\"1\" class=\"dataframe\">\n",
       "  <thead>\n",
       "    <tr style=\"text-align: right;\">\n",
       "      <th>VARIABLE</th>\n",
       "      <th>TYPE</th>\n",
       "      <th>#(ENTITIES)</th>\n",
       "      <th>#(RECORDS)</th>\n",
       "      <th>artifact*</th>\n",
       "      <th>directory*</th>\n",
       "      <th>file*</th>\n",
       "      <th>ipv4-addr*</th>\n",
       "      <th>network-traffic*</th>\n",
       "      <th>process*</th>\n",
       "      <th>user-account*</th>\n",
       "      <th>windows-registry-key*</th>\n",
       "      <th>x-oca-asset*</th>\n",
       "      <th>x-oca-event*</th>\n",
       "    </tr>\n",
       "  </thead>\n",
       "  <tbody>\n",
       "    <tr>\n",
       "      <td>parent_procs</td>\n",
       "      <td>process</td>\n",
       "      <td>1</td>\n",
       "      <td>89</td>\n",
       "      <td>196</td>\n",
       "      <td>323</td>\n",
       "      <td>361</td>\n",
       "      <td>0</td>\n",
       "      <td>0</td>\n",
       "      <td>208</td>\n",
       "      <td>13</td>\n",
       "      <td>22</td>\n",
       "      <td>196</td>\n",
       "      <td>196</td>\n",
       "    </tr>\n",
       "  </tbody>\n",
       "</table><p>*Number of related records cached.</p></div>"
      ]
     },
     "metadata": {},
     "output_type": "display_data"
    }
   ],
   "source": [
    "parent_procs = FIND process CREATED spawned"
   ]
  },
  {
   "cell_type": "markdown",
   "id": "587f9469",
   "metadata": {},
   "source": [
    "# Get the user_account who run the command_line"
   ]
  },
  {
   "cell_type": "code",
   "execution_count": 35,
   "id": "bfc5d9e9",
   "metadata": {},
   "outputs": [
    {
     "name": "stderr",
     "output_type": "stream",
     "text": []
    },
    {
     "data": {
      "text/html": [
       "<table border=\"1\" class=\"dataframe\">\n",
       "  <thead>\n",
       "    <tr style=\"text-align: right;\">\n",
       "      <th>x_unique_id</th>\n",
       "      <th>created</th>\n",
       "      <th>name</th>\n",
       "      <th>command_line</th>\n",
       "      <th>id</th>\n",
       "      <th>pid</th>\n",
       "      <th>binary_ref.name</th>\n",
       "      <th>binary_ref.hashes.'SHA-1'</th>\n",
       "      <th>binary_ref.hashes.MD5</th>\n",
       "      <th>binary_ref.hashes.'SHA-256'</th>\n",
       "      <th>binary_ref.id</th>\n",
       "      <th>binary_ref.parent_directory_ref.path</th>\n",
       "      <th>binary_ref.parent_directory_ref.id</th>\n",
       "      <th>parent_ref.x_unique_id</th>\n",
       "      <th>parent_ref.created</th>\n",
       "      <th>parent_ref.name</th>\n",
       "      <th>parent_ref.command_line</th>\n",
       "      <th>parent_ref.id</th>\n",
       "      <th>parent_ref.pid</th>\n",
       "      <th>parent_ref.parent_ref.x_unique_id</th>\n",
       "      <th>parent_ref.parent_ref.created</th>\n",
       "      <th>parent_ref.parent_ref.name</th>\n",
       "      <th>parent_ref.parent_ref.command_line</th>\n",
       "      <th>parent_ref.parent_ref.id</th>\n",
       "      <th>parent_ref.parent_ref.pid</th>\n",
       "      <th>parent_ref.binary_ref.name</th>\n",
       "      <th>parent_ref.binary_ref.hashes.'SHA-1'</th>\n",
       "      <th>parent_ref.binary_ref.hashes.MD5</th>\n",
       "      <th>parent_ref.binary_ref.hashes.'SHA-256'</th>\n",
       "      <th>parent_ref.binary_ref.id</th>\n",
       "      <th>parent_ref.binary_ref.parent_directory_ref.path</th>\n",
       "      <th>parent_ref.binary_ref.parent_directory_ref.id</th>\n",
       "      <th>parent_ref.creator_user_ref.user_id</th>\n",
       "      <th>parent_ref.creator_user_ref.id</th>\n",
       "      <th>creator_user_ref.user_id</th>\n",
       "      <th>creator_user_ref.id</th>\n",
       "    </tr>\n",
       "  </thead>\n",
       "  <tbody>\n",
       "    <tr>\n",
       "      <td>{83d0c8c3-5caa-5f5f-f002-000000000400}</td>\n",
       "      <td>2020-09-14T12:06:02.209Z</td>\n",
       "      <td>WmiPrvSE.exe</td>\n",
       "      <td>C:\\windows\\system32\\wbem\\wmiprvse.exe -secured -Embedding</td>\n",
       "      <td>process--9c817e8e-144f-5ef9-8d59-8eb97ae5853f</td>\n",
       "      <td>3952</td>\n",
       "      <td>WmiPrvSE.exe</td>\n",
       "      <td>None</td>\n",
       "      <td>None</td>\n",
       "      <td>None</td>\n",
       "      <td>file--69244dc0-7f6e-5544-bf74-55fee7ccc24a</td>\n",
       "      <td>C:\\Windows\\System32\\wbem</td>\n",
       "      <td>directory--753f971e-a436-546f-afe3-92ea22a11650</td>\n",
       "      <td>{83d0c8c3-43cb-5f5f-1000-000000000400}</td>\n",
       "      <td>None</td>\n",
       "      <td>svchost.exe</td>\n",
       "      <td>C:\\windows\\system32\\svchost.exe -k DcomLaunch -p</td>\n",
       "      <td>process--51601bc6-bfd4-5d2c-9604-cdb4a9c34af5</td>\n",
       "      <td>900</td>\n",
       "      <td>None</td>\n",
       "      <td>None</td>\n",
       "      <td>None</td>\n",
       "      <td>None</td>\n",
       "      <td>None</td>\n",
       "      <td>None</td>\n",
       "      <td>svchost.exe</td>\n",
       "      <td>None</td>\n",
       "      <td>None</td>\n",
       "      <td>None</td>\n",
       "      <td>file--c06257ed-0660-5c56-9724-386f6160cfb1</td>\n",
       "      <td>C:\\Windows\\System32</td>\n",
       "      <td>directory--0a58d0c1-59e6-5afd-8252-dcd3f13e5622</td>\n",
       "      <td>None</td>\n",
       "      <td>None</td>\n",
       "      <td>NT AUTHORITY\\NETWORK SERVICE</td>\n",
       "      <td>user-account--c3cfc1d7-73fc-52fb-888a-3b9dee0eed92</td>\n",
       "    </tr>\n",
       "  </tbody>\n",
       "</table>"
      ]
     },
     "metadata": {},
     "output_type": "display_data"
    }
   ],
   "source": [
    "DISP parent_procs "
   ]
  },
  {
   "cell_type": "markdown",
   "id": "96e9a439",
   "metadata": {},
   "source": [
    "Here we get the actor who add backdoor to the system. Here the userid who add backdoor user: user-account--c3cfc1d7-73fc-52fb-888a-3b9dee0eed92"
   ]
  }
 ],
 "metadata": {
  "kernelspec": {
   "display_name": "Kestrel",
   "language": "kestrel",
   "name": "kestrel"
  },
  "language_info": {
   "file_extension": ".hf",
   "name": "kestrel"
  }
 },
 "nbformat": 4,
 "nbformat_minor": 5
}
